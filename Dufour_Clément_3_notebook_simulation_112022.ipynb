{
 "cells": [
  {
   "cell_type": "markdown",
   "id": "00d111e9",
   "metadata": {},
   "source": [
    "# Projet 5: Segmentez des clients d'un site e-commerce\n",
    "\n",
    "## Nettoyage et analyse exploratoire.\n",
    "\n",
    "### Sommaire\n",
    "\n",
    "- <a href=\"#C1\">Description de la mission</a>\n",
    "\n",
    "- <a href=\"#C2\">Importation du jeu de données</a>\n",
    "\n",
    "- <a href=\"#C3\">Stabilité temporelle de la segmentation</a>"
   ]
  },
  {
   "cell_type": "code",
   "execution_count": 2,
   "id": "40b4dad7",
   "metadata": {
    "ExecuteTime": {
     "end_time": "2022-11-25T08:52:11.379705Z",
     "start_time": "2022-11-25T08:52:11.311000Z"
    }
   },
   "outputs": [
    {
     "ename": "ModuleNotFoundError",
     "evalue": "No module named 'pycodestyle_magic'",
     "output_type": "error",
     "traceback": [
      "\u001b[0;31m---------------------------------------------------------------------------\u001b[0m",
      "\u001b[0;31mModuleNotFoundError\u001b[0m                       Traceback (most recent call last)",
      "\u001b[0;32m/var/folders/wj/f3qh8pz91pj20k0f45jfz41m0000gn/T/ipykernel_20124/2328062606.py\u001b[0m in \u001b[0;36m<module>\u001b[0;34m\u001b[0m\n\u001b[0;32m----> 1\u001b[0;31m \u001b[0mget_ipython\u001b[0m\u001b[0;34m(\u001b[0m\u001b[0;34m)\u001b[0m\u001b[0;34m.\u001b[0m\u001b[0mrun_line_magic\u001b[0m\u001b[0;34m(\u001b[0m\u001b[0;34m'load_ext'\u001b[0m\u001b[0;34m,\u001b[0m \u001b[0;34m'pycodestyle_magic'\u001b[0m\u001b[0;34m)\u001b[0m\u001b[0;34m\u001b[0m\u001b[0;34m\u001b[0m\u001b[0m\n\u001b[0m",
      "\u001b[0;32m~/opt/anaconda3/lib/python3.9/site-packages/IPython/core/interactiveshell.py\u001b[0m in \u001b[0;36mrun_line_magic\u001b[0;34m(self, magic_name, line, _stack_depth)\u001b[0m\n\u001b[1;32m   2362\u001b[0m                 \u001b[0mkwargs\u001b[0m\u001b[0;34m[\u001b[0m\u001b[0;34m'local_ns'\u001b[0m\u001b[0;34m]\u001b[0m \u001b[0;34m=\u001b[0m \u001b[0mself\u001b[0m\u001b[0;34m.\u001b[0m\u001b[0mget_local_scope\u001b[0m\u001b[0;34m(\u001b[0m\u001b[0mstack_depth\u001b[0m\u001b[0;34m)\u001b[0m\u001b[0;34m\u001b[0m\u001b[0;34m\u001b[0m\u001b[0m\n\u001b[1;32m   2363\u001b[0m             \u001b[0;32mwith\u001b[0m \u001b[0mself\u001b[0m\u001b[0;34m.\u001b[0m\u001b[0mbuiltin_trap\u001b[0m\u001b[0;34m:\u001b[0m\u001b[0;34m\u001b[0m\u001b[0;34m\u001b[0m\u001b[0m\n\u001b[0;32m-> 2364\u001b[0;31m                 \u001b[0mresult\u001b[0m \u001b[0;34m=\u001b[0m \u001b[0mfn\u001b[0m\u001b[0;34m(\u001b[0m\u001b[0;34m*\u001b[0m\u001b[0margs\u001b[0m\u001b[0;34m,\u001b[0m \u001b[0;34m**\u001b[0m\u001b[0mkwargs\u001b[0m\u001b[0;34m)\u001b[0m\u001b[0;34m\u001b[0m\u001b[0;34m\u001b[0m\u001b[0m\n\u001b[0m\u001b[1;32m   2365\u001b[0m             \u001b[0;32mreturn\u001b[0m \u001b[0mresult\u001b[0m\u001b[0;34m\u001b[0m\u001b[0;34m\u001b[0m\u001b[0m\n\u001b[1;32m   2366\u001b[0m \u001b[0;34m\u001b[0m\u001b[0m\n",
      "\u001b[0;32m~/opt/anaconda3/lib/python3.9/site-packages/decorator.py\u001b[0m in \u001b[0;36mfun\u001b[0;34m(*args, **kw)\u001b[0m\n\u001b[1;32m    230\u001b[0m             \u001b[0;32mif\u001b[0m \u001b[0;32mnot\u001b[0m \u001b[0mkwsyntax\u001b[0m\u001b[0;34m:\u001b[0m\u001b[0;34m\u001b[0m\u001b[0;34m\u001b[0m\u001b[0m\n\u001b[1;32m    231\u001b[0m                 \u001b[0margs\u001b[0m\u001b[0;34m,\u001b[0m \u001b[0mkw\u001b[0m \u001b[0;34m=\u001b[0m \u001b[0mfix\u001b[0m\u001b[0;34m(\u001b[0m\u001b[0margs\u001b[0m\u001b[0;34m,\u001b[0m \u001b[0mkw\u001b[0m\u001b[0;34m,\u001b[0m \u001b[0msig\u001b[0m\u001b[0;34m)\u001b[0m\u001b[0;34m\u001b[0m\u001b[0;34m\u001b[0m\u001b[0m\n\u001b[0;32m--> 232\u001b[0;31m             \u001b[0;32mreturn\u001b[0m \u001b[0mcaller\u001b[0m\u001b[0;34m(\u001b[0m\u001b[0mfunc\u001b[0m\u001b[0;34m,\u001b[0m \u001b[0;34m*\u001b[0m\u001b[0;34m(\u001b[0m\u001b[0mextras\u001b[0m \u001b[0;34m+\u001b[0m \u001b[0margs\u001b[0m\u001b[0;34m)\u001b[0m\u001b[0;34m,\u001b[0m \u001b[0;34m**\u001b[0m\u001b[0mkw\u001b[0m\u001b[0;34m)\u001b[0m\u001b[0;34m\u001b[0m\u001b[0;34m\u001b[0m\u001b[0m\n\u001b[0m\u001b[1;32m    233\u001b[0m     \u001b[0mfun\u001b[0m\u001b[0;34m.\u001b[0m\u001b[0m__name__\u001b[0m \u001b[0;34m=\u001b[0m \u001b[0mfunc\u001b[0m\u001b[0;34m.\u001b[0m\u001b[0m__name__\u001b[0m\u001b[0;34m\u001b[0m\u001b[0;34m\u001b[0m\u001b[0m\n\u001b[1;32m    234\u001b[0m     \u001b[0mfun\u001b[0m\u001b[0;34m.\u001b[0m\u001b[0m__doc__\u001b[0m \u001b[0;34m=\u001b[0m \u001b[0mfunc\u001b[0m\u001b[0;34m.\u001b[0m\u001b[0m__doc__\u001b[0m\u001b[0;34m\u001b[0m\u001b[0;34m\u001b[0m\u001b[0m\n",
      "\u001b[0;32m~/opt/anaconda3/lib/python3.9/site-packages/IPython/core/magic.py\u001b[0m in \u001b[0;36m<lambda>\u001b[0;34m(f, *a, **k)\u001b[0m\n\u001b[1;32m    185\u001b[0m     \u001b[0;31m# but it's overkill for just that one bit of state.\u001b[0m\u001b[0;34m\u001b[0m\u001b[0;34m\u001b[0m\u001b[0m\n\u001b[1;32m    186\u001b[0m     \u001b[0;32mdef\u001b[0m \u001b[0mmagic_deco\u001b[0m\u001b[0;34m(\u001b[0m\u001b[0marg\u001b[0m\u001b[0;34m)\u001b[0m\u001b[0;34m:\u001b[0m\u001b[0;34m\u001b[0m\u001b[0;34m\u001b[0m\u001b[0m\n\u001b[0;32m--> 187\u001b[0;31m         \u001b[0mcall\u001b[0m \u001b[0;34m=\u001b[0m \u001b[0;32mlambda\u001b[0m \u001b[0mf\u001b[0m\u001b[0;34m,\u001b[0m \u001b[0;34m*\u001b[0m\u001b[0ma\u001b[0m\u001b[0;34m,\u001b[0m \u001b[0;34m**\u001b[0m\u001b[0mk\u001b[0m\u001b[0;34m:\u001b[0m \u001b[0mf\u001b[0m\u001b[0;34m(\u001b[0m\u001b[0;34m*\u001b[0m\u001b[0ma\u001b[0m\u001b[0;34m,\u001b[0m \u001b[0;34m**\u001b[0m\u001b[0mk\u001b[0m\u001b[0;34m)\u001b[0m\u001b[0;34m\u001b[0m\u001b[0;34m\u001b[0m\u001b[0m\n\u001b[0m\u001b[1;32m    188\u001b[0m \u001b[0;34m\u001b[0m\u001b[0m\n\u001b[1;32m    189\u001b[0m         \u001b[0;32mif\u001b[0m \u001b[0mcallable\u001b[0m\u001b[0;34m(\u001b[0m\u001b[0marg\u001b[0m\u001b[0;34m)\u001b[0m\u001b[0;34m:\u001b[0m\u001b[0;34m\u001b[0m\u001b[0;34m\u001b[0m\u001b[0m\n",
      "\u001b[0;32m~/opt/anaconda3/lib/python3.9/site-packages/IPython/core/magics/extension.py\u001b[0m in \u001b[0;36mload_ext\u001b[0;34m(self, module_str)\u001b[0m\n\u001b[1;32m     31\u001b[0m         \u001b[0;32mif\u001b[0m \u001b[0;32mnot\u001b[0m \u001b[0mmodule_str\u001b[0m\u001b[0;34m:\u001b[0m\u001b[0;34m\u001b[0m\u001b[0;34m\u001b[0m\u001b[0m\n\u001b[1;32m     32\u001b[0m             \u001b[0;32mraise\u001b[0m \u001b[0mUsageError\u001b[0m\u001b[0;34m(\u001b[0m\u001b[0;34m'Missing module name.'\u001b[0m\u001b[0;34m)\u001b[0m\u001b[0;34m\u001b[0m\u001b[0;34m\u001b[0m\u001b[0m\n\u001b[0;32m---> 33\u001b[0;31m         \u001b[0mres\u001b[0m \u001b[0;34m=\u001b[0m \u001b[0mself\u001b[0m\u001b[0;34m.\u001b[0m\u001b[0mshell\u001b[0m\u001b[0;34m.\u001b[0m\u001b[0mextension_manager\u001b[0m\u001b[0;34m.\u001b[0m\u001b[0mload_extension\u001b[0m\u001b[0;34m(\u001b[0m\u001b[0mmodule_str\u001b[0m\u001b[0;34m)\u001b[0m\u001b[0;34m\u001b[0m\u001b[0;34m\u001b[0m\u001b[0m\n\u001b[0m\u001b[1;32m     34\u001b[0m \u001b[0;34m\u001b[0m\u001b[0m\n\u001b[1;32m     35\u001b[0m         \u001b[0;32mif\u001b[0m \u001b[0mres\u001b[0m \u001b[0;34m==\u001b[0m \u001b[0;34m'already loaded'\u001b[0m\u001b[0;34m:\u001b[0m\u001b[0;34m\u001b[0m\u001b[0;34m\u001b[0m\u001b[0m\n",
      "\u001b[0;32m~/opt/anaconda3/lib/python3.9/site-packages/IPython/core/extensions.py\u001b[0m in \u001b[0;36mload_extension\u001b[0;34m(self, module_str)\u001b[0m\n\u001b[1;32m     78\u001b[0m             \u001b[0;32mif\u001b[0m \u001b[0mmodule_str\u001b[0m \u001b[0;32mnot\u001b[0m \u001b[0;32min\u001b[0m \u001b[0msys\u001b[0m\u001b[0;34m.\u001b[0m\u001b[0mmodules\u001b[0m\u001b[0;34m:\u001b[0m\u001b[0;34m\u001b[0m\u001b[0;34m\u001b[0m\u001b[0m\n\u001b[1;32m     79\u001b[0m                 \u001b[0;32mwith\u001b[0m \u001b[0mprepended_to_syspath\u001b[0m\u001b[0;34m(\u001b[0m\u001b[0mself\u001b[0m\u001b[0;34m.\u001b[0m\u001b[0mipython_extension_dir\u001b[0m\u001b[0;34m)\u001b[0m\u001b[0;34m:\u001b[0m\u001b[0;34m\u001b[0m\u001b[0;34m\u001b[0m\u001b[0m\n\u001b[0;32m---> 80\u001b[0;31m                     \u001b[0mmod\u001b[0m \u001b[0;34m=\u001b[0m \u001b[0mimport_module\u001b[0m\u001b[0;34m(\u001b[0m\u001b[0mmodule_str\u001b[0m\u001b[0;34m)\u001b[0m\u001b[0;34m\u001b[0m\u001b[0;34m\u001b[0m\u001b[0m\n\u001b[0m\u001b[1;32m     81\u001b[0m                     \u001b[0;32mif\u001b[0m \u001b[0mmod\u001b[0m\u001b[0;34m.\u001b[0m\u001b[0m__file__\u001b[0m\u001b[0;34m.\u001b[0m\u001b[0mstartswith\u001b[0m\u001b[0;34m(\u001b[0m\u001b[0mself\u001b[0m\u001b[0;34m.\u001b[0m\u001b[0mipython_extension_dir\u001b[0m\u001b[0;34m)\u001b[0m\u001b[0;34m:\u001b[0m\u001b[0;34m\u001b[0m\u001b[0;34m\u001b[0m\u001b[0m\n\u001b[1;32m     82\u001b[0m                         print((\"Loading extensions from {dir} is deprecated. \"\n",
      "\u001b[0;32m~/opt/anaconda3/lib/python3.9/importlib/__init__.py\u001b[0m in \u001b[0;36mimport_module\u001b[0;34m(name, package)\u001b[0m\n\u001b[1;32m    125\u001b[0m                 \u001b[0;32mbreak\u001b[0m\u001b[0;34m\u001b[0m\u001b[0;34m\u001b[0m\u001b[0m\n\u001b[1;32m    126\u001b[0m             \u001b[0mlevel\u001b[0m \u001b[0;34m+=\u001b[0m \u001b[0;36m1\u001b[0m\u001b[0;34m\u001b[0m\u001b[0;34m\u001b[0m\u001b[0m\n\u001b[0;32m--> 127\u001b[0;31m     \u001b[0;32mreturn\u001b[0m \u001b[0m_bootstrap\u001b[0m\u001b[0;34m.\u001b[0m\u001b[0m_gcd_import\u001b[0m\u001b[0;34m(\u001b[0m\u001b[0mname\u001b[0m\u001b[0;34m[\u001b[0m\u001b[0mlevel\u001b[0m\u001b[0;34m:\u001b[0m\u001b[0;34m]\u001b[0m\u001b[0;34m,\u001b[0m \u001b[0mpackage\u001b[0m\u001b[0;34m,\u001b[0m \u001b[0mlevel\u001b[0m\u001b[0;34m)\u001b[0m\u001b[0;34m\u001b[0m\u001b[0;34m\u001b[0m\u001b[0m\n\u001b[0m\u001b[1;32m    128\u001b[0m \u001b[0;34m\u001b[0m\u001b[0m\n\u001b[1;32m    129\u001b[0m \u001b[0;34m\u001b[0m\u001b[0m\n",
      "\u001b[0;32m~/opt/anaconda3/lib/python3.9/importlib/_bootstrap.py\u001b[0m in \u001b[0;36m_gcd_import\u001b[0;34m(name, package, level)\u001b[0m\n",
      "\u001b[0;32m~/opt/anaconda3/lib/python3.9/importlib/_bootstrap.py\u001b[0m in \u001b[0;36m_find_and_load\u001b[0;34m(name, import_)\u001b[0m\n",
      "\u001b[0;32m~/opt/anaconda3/lib/python3.9/importlib/_bootstrap.py\u001b[0m in \u001b[0;36m_find_and_load_unlocked\u001b[0;34m(name, import_)\u001b[0m\n",
      "\u001b[0;31mModuleNotFoundError\u001b[0m: No module named 'pycodestyle_magic'"
     ]
    }
   ],
   "source": [
    "%load_ext pycodestyle_magic"
   ]
  },
  {
   "cell_type": "code",
   "execution_count": 2,
   "id": "efbb1e98",
   "metadata": {
    "ExecuteTime": {
     "end_time": "2022-11-25T08:52:11.509227Z",
     "start_time": "2022-11-25T08:52:11.504704Z"
    }
   },
   "outputs": [],
   "source": [
    "%pycodestyle_on"
   ]
  },
  {
   "cell_type": "markdown",
   "id": "6b6a24be",
   "metadata": {},
   "source": [
    "## <a name ='C1'>Description de la mission</a>"
   ]
  },
  {
   "cell_type": "markdown",
   "id": "f4c87981",
   "metadata": {},
   "source": [
    "Votre mission est d’aider les équipes d’Olist à comprendre les différents types d'utilisateurs. Vous utiliserez donc des méthodes non supervisées pour regrouper des clients de profils similaires. Ces catégories pourront être utilisées par l’équipe Marketing pour mieux communiquer.\n",
    "\n",
    "Vous créez donc un notebook et démarrez votre travail d’analyse exploratoire.\n",
    "\n",
    "\n",
    "Après quelques premières analyses, vous vous rendez compte qu’Olist ne vous a pas fourni beaucoup de données ; vous enquêtez donc auprès de l’entreprise pour obtenir quelques informations complémentaires, et vérifier que vous avez bien compris la mission. Voici sa réponse"
   ]
  },
  {
   "cell_type": "markdown",
   "id": "af120fcb",
   "metadata": {},
   "source": [
    "## <a name='C2'> Importation du jeu de données<a/>"
   ]
  },
  {
   "cell_type": "code",
   "execution_count": 3,
   "id": "ec4f89a3",
   "metadata": {
    "ExecuteTime": {
     "end_time": "2022-11-25T08:52:17.485940Z",
     "start_time": "2022-11-25T08:52:13.473255Z"
    }
   },
   "outputs": [],
   "source": [
    "import pandas as pd\n",
    "import numpy as np\n",
    "import matplotlib.pyplot as plt\n",
    "import seaborn as sns\n",
    "import datetime\n",
    "from scipy import stats\n",
    "from sklearn.model_selection import train_test_split\n",
    "from sklearn.cluster import KMeans, AgglomerativeClustering\n",
    "from sklearn.cluster import MeanShift, estimate_bandwidth, DBSCAN\n",
    "from sklearn.preprocessing import StandardScaler, MinMaxScaler\n",
    "from sklearn.metrics import silhouette_score, silhouette_samples\n",
    "from sklearn.metrics import homogeneity_score, adjusted_rand_score\n",
    "from sklearn.metrics import adjusted_mutual_info_score\n",
    "from sklearn import metrics\n",
    "from matplotlib import cm\n",
    "from time import time\n",
    "from sklearn.pipeline import Pipeline, make_pipeline\n",
    "from yellowbrick.cluster import KElbowVisualizer, SilhouetteVisualizer\n",
    "from yellowbrick.cluster import InterclusterDistance\n",
    "from kmodes.kprototypes import KPrototypes"
   ]
  },
  {
   "cell_type": "markdown",
   "id": "d8f1686f",
   "metadata": {},
   "source": [
    "## <a name='C2'> Création du DataFrame<a/>"
   ]
  },
  {
   "cell_type": "code",
   "execution_count": 4,
   "id": "7a01df67",
   "metadata": {
    "ExecuteTime": {
     "end_time": "2022-11-25T08:52:31.907502Z",
     "start_time": "2022-11-25T08:52:31.476731Z"
    }
   },
   "outputs": [
    {
     "data": {
      "text/html": [
       "<div>\n",
       "<style scoped>\n",
       "    .dataframe tbody tr th:only-of-type {\n",
       "        vertical-align: middle;\n",
       "    }\n",
       "\n",
       "    .dataframe tbody tr th {\n",
       "        vertical-align: top;\n",
       "    }\n",
       "\n",
       "    .dataframe thead th {\n",
       "        text-align: right;\n",
       "    }\n",
       "</style>\n",
       "<table border=\"1\" class=\"dataframe\">\n",
       "  <thead>\n",
       "    <tr style=\"text-align: right;\">\n",
       "      <th></th>\n",
       "      <th>customer_id</th>\n",
       "      <th>order_purchase_timestamp</th>\n",
       "    </tr>\n",
       "  </thead>\n",
       "  <tbody>\n",
       "    <tr>\n",
       "      <th>0</th>\n",
       "      <td>9ef432eb6251297304e76186b10a928d</td>\n",
       "      <td>2017-10-02 10:56:33</td>\n",
       "    </tr>\n",
       "    <tr>\n",
       "      <th>1</th>\n",
       "      <td>b0830fb4747a6c6d20dea0b8c802d7ef</td>\n",
       "      <td>2018-07-24 20:41:37</td>\n",
       "    </tr>\n",
       "    <tr>\n",
       "      <th>2</th>\n",
       "      <td>41ce2a54c0b03bf3443c3d931a367089</td>\n",
       "      <td>2018-08-08 08:38:49</td>\n",
       "    </tr>\n",
       "    <tr>\n",
       "      <th>3</th>\n",
       "      <td>f88197465ea7920adcdbec7375364d82</td>\n",
       "      <td>2017-11-18 19:28:06</td>\n",
       "    </tr>\n",
       "    <tr>\n",
       "      <th>4</th>\n",
       "      <td>8ab97904e6daea8866dbdbc4fb7aad2c</td>\n",
       "      <td>2018-02-13 21:18:39</td>\n",
       "    </tr>\n",
       "    <tr>\n",
       "      <th>...</th>\n",
       "      <td>...</td>\n",
       "      <td>...</td>\n",
       "    </tr>\n",
       "    <tr>\n",
       "      <th>99436</th>\n",
       "      <td>39bd1228ee8140590ac3aca26f2dfe00</td>\n",
       "      <td>2017-03-09 09:54:05</td>\n",
       "    </tr>\n",
       "    <tr>\n",
       "      <th>99437</th>\n",
       "      <td>1fca14ff2861355f6e5f14306ff977a7</td>\n",
       "      <td>2018-02-06 12:58:58</td>\n",
       "    </tr>\n",
       "    <tr>\n",
       "      <th>99438</th>\n",
       "      <td>1aa71eb042121263aafbe80c1b562c9c</td>\n",
       "      <td>2017-08-27 14:46:43</td>\n",
       "    </tr>\n",
       "    <tr>\n",
       "      <th>99439</th>\n",
       "      <td>b331b74b18dc79bcdf6532d51e1637c1</td>\n",
       "      <td>2018-01-08 21:28:27</td>\n",
       "    </tr>\n",
       "    <tr>\n",
       "      <th>99440</th>\n",
       "      <td>edb027a75a1449115f6b43211ae02a24</td>\n",
       "      <td>2018-03-08 20:57:30</td>\n",
       "    </tr>\n",
       "  </tbody>\n",
       "</table>\n",
       "<p>99441 rows × 2 columns</p>\n",
       "</div>"
      ],
      "text/plain": [
       "                            customer_id order_purchase_timestamp\n",
       "0      9ef432eb6251297304e76186b10a928d      2017-10-02 10:56:33\n",
       "1      b0830fb4747a6c6d20dea0b8c802d7ef      2018-07-24 20:41:37\n",
       "2      41ce2a54c0b03bf3443c3d931a367089      2018-08-08 08:38:49\n",
       "3      f88197465ea7920adcdbec7375364d82      2017-11-18 19:28:06\n",
       "4      8ab97904e6daea8866dbdbc4fb7aad2c      2018-02-13 21:18:39\n",
       "...                                 ...                      ...\n",
       "99436  39bd1228ee8140590ac3aca26f2dfe00      2017-03-09 09:54:05\n",
       "99437  1fca14ff2861355f6e5f14306ff977a7      2018-02-06 12:58:58\n",
       "99438  1aa71eb042121263aafbe80c1b562c9c      2017-08-27 14:46:43\n",
       "99439  b331b74b18dc79bcdf6532d51e1637c1      2018-01-08 21:28:27\n",
       "99440  edb027a75a1449115f6b43211ae02a24      2018-03-08 20:57:30\n",
       "\n",
       "[99441 rows x 2 columns]"
      ]
     },
     "execution_count": 4,
     "metadata": {},
     "output_type": "execute_result"
    }
   ],
   "source": [
    "df_order = pd.read_csv('../olist_orders_dataset.csv')\n",
    "df_order = df_order[['customer_id', 'order_purchase_timestamp']]\n",
    "df_order"
   ]
  },
  {
   "cell_type": "code",
   "execution_count": 5,
   "id": "c7b77b4e",
   "metadata": {
    "ExecuteTime": {
     "end_time": "2022-11-25T08:52:37.520191Z",
     "start_time": "2022-11-25T08:52:37.346537Z"
    }
   },
   "outputs": [
    {
     "data": {
      "text/html": [
       "<div>\n",
       "<style scoped>\n",
       "    .dataframe tbody tr th:only-of-type {\n",
       "        vertical-align: middle;\n",
       "    }\n",
       "\n",
       "    .dataframe tbody tr th {\n",
       "        vertical-align: top;\n",
       "    }\n",
       "\n",
       "    .dataframe thead th {\n",
       "        text-align: right;\n",
       "    }\n",
       "</style>\n",
       "<table border=\"1\" class=\"dataframe\">\n",
       "  <thead>\n",
       "    <tr style=\"text-align: right;\">\n",
       "      <th></th>\n",
       "      <th>customer_id</th>\n",
       "      <th>customer_unique_id</th>\n",
       "    </tr>\n",
       "  </thead>\n",
       "  <tbody>\n",
       "    <tr>\n",
       "      <th>0</th>\n",
       "      <td>06b8999e2fba1a1fbc88172c00ba8bc7</td>\n",
       "      <td>861eff4711a542e4b93843c6dd7febb0</td>\n",
       "    </tr>\n",
       "    <tr>\n",
       "      <th>1</th>\n",
       "      <td>18955e83d337fd6b2def6b18a428ac77</td>\n",
       "      <td>290c77bc529b7ac935b93aa66c333dc3</td>\n",
       "    </tr>\n",
       "    <tr>\n",
       "      <th>2</th>\n",
       "      <td>4e7b3e00288586ebd08712fdd0374a03</td>\n",
       "      <td>060e732b5b29e8181a18229c7b0b2b5e</td>\n",
       "    </tr>\n",
       "    <tr>\n",
       "      <th>3</th>\n",
       "      <td>b2b6027bc5c5109e529d4dc6358b12c3</td>\n",
       "      <td>259dac757896d24d7702b9acbbff3f3c</td>\n",
       "    </tr>\n",
       "    <tr>\n",
       "      <th>4</th>\n",
       "      <td>4f2d8ab171c80ec8364f7c12e35b23ad</td>\n",
       "      <td>345ecd01c38d18a9036ed96c73b8d066</td>\n",
       "    </tr>\n",
       "    <tr>\n",
       "      <th>...</th>\n",
       "      <td>...</td>\n",
       "      <td>...</td>\n",
       "    </tr>\n",
       "    <tr>\n",
       "      <th>99436</th>\n",
       "      <td>17ddf5dd5d51696bb3d7c6291687be6f</td>\n",
       "      <td>1a29b476fee25c95fbafc67c5ac95cf8</td>\n",
       "    </tr>\n",
       "    <tr>\n",
       "      <th>99437</th>\n",
       "      <td>e7b71a9017aa05c9a7fd292d714858e8</td>\n",
       "      <td>d52a67c98be1cf6a5c84435bd38d095d</td>\n",
       "    </tr>\n",
       "    <tr>\n",
       "      <th>99438</th>\n",
       "      <td>5e28dfe12db7fb50a4b2f691faecea5e</td>\n",
       "      <td>e9f50caf99f032f0bf3c55141f019d99</td>\n",
       "    </tr>\n",
       "    <tr>\n",
       "      <th>99439</th>\n",
       "      <td>56b18e2166679b8a959d72dd06da27f9</td>\n",
       "      <td>73c2643a0a458b49f58cea58833b192e</td>\n",
       "    </tr>\n",
       "    <tr>\n",
       "      <th>99440</th>\n",
       "      <td>274fa6071e5e17fe303b9748641082c8</td>\n",
       "      <td>84732c5050c01db9b23e19ba39899398</td>\n",
       "    </tr>\n",
       "  </tbody>\n",
       "</table>\n",
       "<p>99441 rows × 2 columns</p>\n",
       "</div>"
      ],
      "text/plain": [
       "                            customer_id                customer_unique_id\n",
       "0      06b8999e2fba1a1fbc88172c00ba8bc7  861eff4711a542e4b93843c6dd7febb0\n",
       "1      18955e83d337fd6b2def6b18a428ac77  290c77bc529b7ac935b93aa66c333dc3\n",
       "2      4e7b3e00288586ebd08712fdd0374a03  060e732b5b29e8181a18229c7b0b2b5e\n",
       "3      b2b6027bc5c5109e529d4dc6358b12c3  259dac757896d24d7702b9acbbff3f3c\n",
       "4      4f2d8ab171c80ec8364f7c12e35b23ad  345ecd01c38d18a9036ed96c73b8d066\n",
       "...                                 ...                               ...\n",
       "99436  17ddf5dd5d51696bb3d7c6291687be6f  1a29b476fee25c95fbafc67c5ac95cf8\n",
       "99437  e7b71a9017aa05c9a7fd292d714858e8  d52a67c98be1cf6a5c84435bd38d095d\n",
       "99438  5e28dfe12db7fb50a4b2f691faecea5e  e9f50caf99f032f0bf3c55141f019d99\n",
       "99439  56b18e2166679b8a959d72dd06da27f9  73c2643a0a458b49f58cea58833b192e\n",
       "99440  274fa6071e5e17fe303b9748641082c8  84732c5050c01db9b23e19ba39899398\n",
       "\n",
       "[99441 rows x 2 columns]"
      ]
     },
     "execution_count": 5,
     "metadata": {},
     "output_type": "execute_result"
    }
   ],
   "source": [
    "df_custom = pd.read_csv('../olist_customers_dataset.csv')\n",
    "df_custom = df_custom[['customer_id', 'customer_unique_id']]\n",
    "df_custom"
   ]
  },
  {
   "cell_type": "code",
   "execution_count": 6,
   "id": "b0340710",
   "metadata": {
    "ExecuteTime": {
     "end_time": "2022-11-25T08:52:39.225938Z",
     "start_time": "2022-11-25T08:52:39.100482Z"
    }
   },
   "outputs": [],
   "source": [
    "df_temp = df_order.merge(df_custom,\n",
    "                         left_on='customer_id',\n",
    "                         right_on='customer_id')"
   ]
  },
  {
   "cell_type": "code",
   "execution_count": 7,
   "id": "26d013ee",
   "metadata": {
    "ExecuteTime": {
     "end_time": "2022-11-25T08:52:39.309925Z",
     "start_time": "2022-11-25T08:52:39.294568Z"
    }
   },
   "outputs": [
    {
     "data": {
      "text/html": [
       "<div>\n",
       "<style scoped>\n",
       "    .dataframe tbody tr th:only-of-type {\n",
       "        vertical-align: middle;\n",
       "    }\n",
       "\n",
       "    .dataframe tbody tr th {\n",
       "        vertical-align: top;\n",
       "    }\n",
       "\n",
       "    .dataframe thead th {\n",
       "        text-align: right;\n",
       "    }\n",
       "</style>\n",
       "<table border=\"1\" class=\"dataframe\">\n",
       "  <thead>\n",
       "    <tr style=\"text-align: right;\">\n",
       "      <th></th>\n",
       "      <th>customer_id</th>\n",
       "      <th>order_purchase_timestamp</th>\n",
       "      <th>customer_unique_id</th>\n",
       "    </tr>\n",
       "  </thead>\n",
       "  <tbody>\n",
       "    <tr>\n",
       "      <th>0</th>\n",
       "      <td>9ef432eb6251297304e76186b10a928d</td>\n",
       "      <td>2017-10-02 10:56:33</td>\n",
       "      <td>7c396fd4830fd04220f754e42b4e5bff</td>\n",
       "    </tr>\n",
       "    <tr>\n",
       "      <th>1</th>\n",
       "      <td>b0830fb4747a6c6d20dea0b8c802d7ef</td>\n",
       "      <td>2018-07-24 20:41:37</td>\n",
       "      <td>af07308b275d755c9edb36a90c618231</td>\n",
       "    </tr>\n",
       "    <tr>\n",
       "      <th>2</th>\n",
       "      <td>41ce2a54c0b03bf3443c3d931a367089</td>\n",
       "      <td>2018-08-08 08:38:49</td>\n",
       "      <td>3a653a41f6f9fc3d2a113cf8398680e8</td>\n",
       "    </tr>\n",
       "    <tr>\n",
       "      <th>3</th>\n",
       "      <td>f88197465ea7920adcdbec7375364d82</td>\n",
       "      <td>2017-11-18 19:28:06</td>\n",
       "      <td>7c142cf63193a1473d2e66489a9ae977</td>\n",
       "    </tr>\n",
       "    <tr>\n",
       "      <th>4</th>\n",
       "      <td>8ab97904e6daea8866dbdbc4fb7aad2c</td>\n",
       "      <td>2018-02-13 21:18:39</td>\n",
       "      <td>72632f0f9dd73dfee390c9b22eb56dd6</td>\n",
       "    </tr>\n",
       "    <tr>\n",
       "      <th>...</th>\n",
       "      <td>...</td>\n",
       "      <td>...</td>\n",
       "      <td>...</td>\n",
       "    </tr>\n",
       "    <tr>\n",
       "      <th>99436</th>\n",
       "      <td>39bd1228ee8140590ac3aca26f2dfe00</td>\n",
       "      <td>2017-03-09 09:54:05</td>\n",
       "      <td>6359f309b166b0196dbf7ad2ac62bb5a</td>\n",
       "    </tr>\n",
       "    <tr>\n",
       "      <th>99437</th>\n",
       "      <td>1fca14ff2861355f6e5f14306ff977a7</td>\n",
       "      <td>2018-02-06 12:58:58</td>\n",
       "      <td>da62f9e57a76d978d02ab5362c509660</td>\n",
       "    </tr>\n",
       "    <tr>\n",
       "      <th>99438</th>\n",
       "      <td>1aa71eb042121263aafbe80c1b562c9c</td>\n",
       "      <td>2017-08-27 14:46:43</td>\n",
       "      <td>737520a9aad80b3fbbdad19b66b37b30</td>\n",
       "    </tr>\n",
       "    <tr>\n",
       "      <th>99439</th>\n",
       "      <td>b331b74b18dc79bcdf6532d51e1637c1</td>\n",
       "      <td>2018-01-08 21:28:27</td>\n",
       "      <td>5097a5312c8b157bb7be58ae360ef43c</td>\n",
       "    </tr>\n",
       "    <tr>\n",
       "      <th>99440</th>\n",
       "      <td>edb027a75a1449115f6b43211ae02a24</td>\n",
       "      <td>2018-03-08 20:57:30</td>\n",
       "      <td>60350aa974b26ff12caad89e55993bd6</td>\n",
       "    </tr>\n",
       "  </tbody>\n",
       "</table>\n",
       "<p>99441 rows × 3 columns</p>\n",
       "</div>"
      ],
      "text/plain": [
       "                            customer_id order_purchase_timestamp  \\\n",
       "0      9ef432eb6251297304e76186b10a928d      2017-10-02 10:56:33   \n",
       "1      b0830fb4747a6c6d20dea0b8c802d7ef      2018-07-24 20:41:37   \n",
       "2      41ce2a54c0b03bf3443c3d931a367089      2018-08-08 08:38:49   \n",
       "3      f88197465ea7920adcdbec7375364d82      2017-11-18 19:28:06   \n",
       "4      8ab97904e6daea8866dbdbc4fb7aad2c      2018-02-13 21:18:39   \n",
       "...                                 ...                      ...   \n",
       "99436  39bd1228ee8140590ac3aca26f2dfe00      2017-03-09 09:54:05   \n",
       "99437  1fca14ff2861355f6e5f14306ff977a7      2018-02-06 12:58:58   \n",
       "99438  1aa71eb042121263aafbe80c1b562c9c      2017-08-27 14:46:43   \n",
       "99439  b331b74b18dc79bcdf6532d51e1637c1      2018-01-08 21:28:27   \n",
       "99440  edb027a75a1449115f6b43211ae02a24      2018-03-08 20:57:30   \n",
       "\n",
       "                     customer_unique_id  \n",
       "0      7c396fd4830fd04220f754e42b4e5bff  \n",
       "1      af07308b275d755c9edb36a90c618231  \n",
       "2      3a653a41f6f9fc3d2a113cf8398680e8  \n",
       "3      7c142cf63193a1473d2e66489a9ae977  \n",
       "4      72632f0f9dd73dfee390c9b22eb56dd6  \n",
       "...                                 ...  \n",
       "99436  6359f309b166b0196dbf7ad2ac62bb5a  \n",
       "99437  da62f9e57a76d978d02ab5362c509660  \n",
       "99438  737520a9aad80b3fbbdad19b66b37b30  \n",
       "99439  5097a5312c8b157bb7be58ae360ef43c  \n",
       "99440  60350aa974b26ff12caad89e55993bd6  \n",
       "\n",
       "[99441 rows x 3 columns]"
      ]
     },
     "execution_count": 7,
     "metadata": {},
     "output_type": "execute_result"
    }
   ],
   "source": [
    "df_temp"
   ]
  },
  {
   "cell_type": "code",
   "execution_count": 8,
   "id": "ac65fd44",
   "metadata": {
    "ExecuteTime": {
     "end_time": "2022-11-25T08:52:39.513602Z",
     "start_time": "2022-11-25T08:52:39.441724Z"
    }
   },
   "outputs": [],
   "source": [
    "df_temp = df_temp.drop_duplicates(subset=['customer_unique_id'], keep='last')"
   ]
  },
  {
   "cell_type": "code",
   "execution_count": 9,
   "id": "fd4cc19e",
   "metadata": {
    "ExecuteTime": {
     "end_time": "2022-11-25T08:52:39.655382Z",
     "start_time": "2022-11-25T08:52:39.633452Z"
    }
   },
   "outputs": [
    {
     "data": {
      "text/html": [
       "<div>\n",
       "<style scoped>\n",
       "    .dataframe tbody tr th:only-of-type {\n",
       "        vertical-align: middle;\n",
       "    }\n",
       "\n",
       "    .dataframe tbody tr th {\n",
       "        vertical-align: top;\n",
       "    }\n",
       "\n",
       "    .dataframe thead th {\n",
       "        text-align: right;\n",
       "    }\n",
       "</style>\n",
       "<table border=\"1\" class=\"dataframe\">\n",
       "  <thead>\n",
       "    <tr style=\"text-align: right;\">\n",
       "      <th></th>\n",
       "      <th>customer_id</th>\n",
       "      <th>order_purchase_timestamp</th>\n",
       "      <th>customer_unique_id</th>\n",
       "    </tr>\n",
       "  </thead>\n",
       "  <tbody>\n",
       "    <tr>\n",
       "      <th>1</th>\n",
       "      <td>b0830fb4747a6c6d20dea0b8c802d7ef</td>\n",
       "      <td>2018-07-24 20:41:37</td>\n",
       "      <td>af07308b275d755c9edb36a90c618231</td>\n",
       "    </tr>\n",
       "    <tr>\n",
       "      <th>2</th>\n",
       "      <td>41ce2a54c0b03bf3443c3d931a367089</td>\n",
       "      <td>2018-08-08 08:38:49</td>\n",
       "      <td>3a653a41f6f9fc3d2a113cf8398680e8</td>\n",
       "    </tr>\n",
       "    <tr>\n",
       "      <th>3</th>\n",
       "      <td>f88197465ea7920adcdbec7375364d82</td>\n",
       "      <td>2017-11-18 19:28:06</td>\n",
       "      <td>7c142cf63193a1473d2e66489a9ae977</td>\n",
       "    </tr>\n",
       "    <tr>\n",
       "      <th>4</th>\n",
       "      <td>8ab97904e6daea8866dbdbc4fb7aad2c</td>\n",
       "      <td>2018-02-13 21:18:39</td>\n",
       "      <td>72632f0f9dd73dfee390c9b22eb56dd6</td>\n",
       "    </tr>\n",
       "    <tr>\n",
       "      <th>5</th>\n",
       "      <td>503740e9ca751ccdda7ba28e9ab8f608</td>\n",
       "      <td>2017-07-09 21:57:05</td>\n",
       "      <td>80bb27c7c16e8f973207a5086ab329e2</td>\n",
       "    </tr>\n",
       "    <tr>\n",
       "      <th>...</th>\n",
       "      <td>...</td>\n",
       "      <td>...</td>\n",
       "      <td>...</td>\n",
       "    </tr>\n",
       "    <tr>\n",
       "      <th>99436</th>\n",
       "      <td>39bd1228ee8140590ac3aca26f2dfe00</td>\n",
       "      <td>2017-03-09 09:54:05</td>\n",
       "      <td>6359f309b166b0196dbf7ad2ac62bb5a</td>\n",
       "    </tr>\n",
       "    <tr>\n",
       "      <th>99437</th>\n",
       "      <td>1fca14ff2861355f6e5f14306ff977a7</td>\n",
       "      <td>2018-02-06 12:58:58</td>\n",
       "      <td>da62f9e57a76d978d02ab5362c509660</td>\n",
       "    </tr>\n",
       "    <tr>\n",
       "      <th>99438</th>\n",
       "      <td>1aa71eb042121263aafbe80c1b562c9c</td>\n",
       "      <td>2017-08-27 14:46:43</td>\n",
       "      <td>737520a9aad80b3fbbdad19b66b37b30</td>\n",
       "    </tr>\n",
       "    <tr>\n",
       "      <th>99439</th>\n",
       "      <td>b331b74b18dc79bcdf6532d51e1637c1</td>\n",
       "      <td>2018-01-08 21:28:27</td>\n",
       "      <td>5097a5312c8b157bb7be58ae360ef43c</td>\n",
       "    </tr>\n",
       "    <tr>\n",
       "      <th>99440</th>\n",
       "      <td>edb027a75a1449115f6b43211ae02a24</td>\n",
       "      <td>2018-03-08 20:57:30</td>\n",
       "      <td>60350aa974b26ff12caad89e55993bd6</td>\n",
       "    </tr>\n",
       "  </tbody>\n",
       "</table>\n",
       "<p>96096 rows × 3 columns</p>\n",
       "</div>"
      ],
      "text/plain": [
       "                            customer_id order_purchase_timestamp  \\\n",
       "1      b0830fb4747a6c6d20dea0b8c802d7ef      2018-07-24 20:41:37   \n",
       "2      41ce2a54c0b03bf3443c3d931a367089      2018-08-08 08:38:49   \n",
       "3      f88197465ea7920adcdbec7375364d82      2017-11-18 19:28:06   \n",
       "4      8ab97904e6daea8866dbdbc4fb7aad2c      2018-02-13 21:18:39   \n",
       "5      503740e9ca751ccdda7ba28e9ab8f608      2017-07-09 21:57:05   \n",
       "...                                 ...                      ...   \n",
       "99436  39bd1228ee8140590ac3aca26f2dfe00      2017-03-09 09:54:05   \n",
       "99437  1fca14ff2861355f6e5f14306ff977a7      2018-02-06 12:58:58   \n",
       "99438  1aa71eb042121263aafbe80c1b562c9c      2017-08-27 14:46:43   \n",
       "99439  b331b74b18dc79bcdf6532d51e1637c1      2018-01-08 21:28:27   \n",
       "99440  edb027a75a1449115f6b43211ae02a24      2018-03-08 20:57:30   \n",
       "\n",
       "                     customer_unique_id  \n",
       "1      af07308b275d755c9edb36a90c618231  \n",
       "2      3a653a41f6f9fc3d2a113cf8398680e8  \n",
       "3      7c142cf63193a1473d2e66489a9ae977  \n",
       "4      72632f0f9dd73dfee390c9b22eb56dd6  \n",
       "5      80bb27c7c16e8f973207a5086ab329e2  \n",
       "...                                 ...  \n",
       "99436  6359f309b166b0196dbf7ad2ac62bb5a  \n",
       "99437  da62f9e57a76d978d02ab5362c509660  \n",
       "99438  737520a9aad80b3fbbdad19b66b37b30  \n",
       "99439  5097a5312c8b157bb7be58ae360ef43c  \n",
       "99440  60350aa974b26ff12caad89e55993bd6  \n",
       "\n",
       "[96096 rows x 3 columns]"
      ]
     },
     "execution_count": 9,
     "metadata": {},
     "output_type": "execute_result"
    }
   ],
   "source": [
    "df_temp"
   ]
  },
  {
   "cell_type": "markdown",
   "id": "55d1e125",
   "metadata": {},
   "source": [
    "L'année la plus récente qu'on a dans ce jeu de donnée est donc 2016. On va créer un compte de mois qui commence à janvier 2016."
   ]
  },
  {
   "cell_type": "markdown",
   "id": "d5a5285b",
   "metadata": {},
   "source": [
    "Pour certains clients on a plusieurs date de commande, on va juste garder la dernière. "
   ]
  },
  {
   "cell_type": "code",
   "execution_count": 10,
   "id": "971e87e4",
   "metadata": {
    "ExecuteTime": {
     "end_time": "2022-11-25T08:52:40.521875Z",
     "start_time": "2022-11-25T08:52:40.418794Z"
    }
   },
   "outputs": [],
   "source": [
    "df_rfm = pd.read_csv('rfm').drop(columns='Unnamed: 0')"
   ]
  },
  {
   "cell_type": "code",
   "execution_count": 11,
   "id": "dc09ba26",
   "metadata": {
    "ExecuteTime": {
     "end_time": "2022-11-25T08:52:40.686548Z",
     "start_time": "2022-11-25T08:52:40.674255Z"
    }
   },
   "outputs": [],
   "source": [
    "df_temp = df_temp.drop(columns='customer_id')"
   ]
  },
  {
   "cell_type": "code",
   "execution_count": 12,
   "id": "cc9dab3c",
   "metadata": {
    "ExecuteTime": {
     "end_time": "2022-11-25T08:52:40.980754Z",
     "start_time": "2022-11-25T08:52:40.860672Z"
    }
   },
   "outputs": [],
   "source": [
    "df_rfm = df_temp.merge(df_rfm,\n",
    "                       left_on='customer_unique_id',\n",
    "                       right_on='customer_unique_id')"
   ]
  },
  {
   "cell_type": "code",
   "execution_count": 13,
   "id": "9914bf74",
   "metadata": {
    "ExecuteTime": {
     "end_time": "2022-11-25T08:52:41.194798Z",
     "start_time": "2022-11-25T08:52:41.184935Z"
    }
   },
   "outputs": [],
   "source": [
    "df_rfm['date'] = df_rfm['order_purchase_timestamp']"
   ]
  },
  {
   "cell_type": "code",
   "execution_count": 14,
   "id": "4ceed2ba",
   "metadata": {
    "ExecuteTime": {
     "end_time": "2022-11-25T08:52:54.227075Z",
     "start_time": "2022-11-25T08:52:51.713846Z"
    }
   },
   "outputs": [],
   "source": [
    "df_rfm = df_rfm.drop(columns='order_purchase_timestamp')"
   ]
  },
  {
   "cell_type": "code",
   "execution_count": 15,
   "id": "f7c078eb",
   "metadata": {
    "ExecuteTime": {
     "end_time": "2022-11-25T08:52:59.371072Z",
     "start_time": "2022-11-25T08:52:59.315948Z"
    },
    "scrolled": true
   },
   "outputs": [
    {
     "name": "stdout",
     "output_type": "stream",
     "text": [
      "<class 'pandas.core.frame.DataFrame'>\n",
      "Int64Index: 93396 entries, 0 to 93395\n",
      "Data columns (total 5 columns):\n",
      " #   Column              Non-Null Count  Dtype  \n",
      "---  ------              --------------  -----  \n",
      " 0   customer_unique_id  93396 non-null  object \n",
      " 1   Recency             93396 non-null  int64  \n",
      " 2   Frequency           93396 non-null  int64  \n",
      " 3   Monetary            93396 non-null  float64\n",
      " 4   date                93396 non-null  object \n",
      "dtypes: float64(1), int64(2), object(2)\n",
      "memory usage: 4.3+ MB\n"
     ]
    }
   ],
   "source": [
    "df_rfm.info()"
   ]
  },
  {
   "cell_type": "code",
   "execution_count": 16,
   "id": "1a76b65c",
   "metadata": {
    "ExecuteTime": {
     "end_time": "2022-11-25T08:53:01.014528Z",
     "start_time": "2022-11-25T08:53:00.623238Z"
    }
   },
   "outputs": [],
   "source": [
    "df_rfm.to_csv('temp_data')"
   ]
  },
  {
   "cell_type": "markdown",
   "id": "b12a1fe8",
   "metadata": {},
   "source": [
    "On transforme la colonne au type date"
   ]
  },
  {
   "cell_type": "code",
   "execution_count": 17,
   "id": "ee54c7ea",
   "metadata": {
    "ExecuteTime": {
     "end_time": "2022-11-25T08:53:02.165225Z",
     "start_time": "2022-11-25T08:53:02.135489Z"
    },
    "scrolled": true
   },
   "outputs": [],
   "source": [
    "df_rfm['date'] = pd.to_datetime(df_rfm['date'], format='%Y-%m-%d %H:%M:%S')"
   ]
  },
  {
   "cell_type": "code",
   "execution_count": 18,
   "id": "3d798efe",
   "metadata": {
    "ExecuteTime": {
     "end_time": "2022-11-25T08:53:03.868172Z",
     "start_time": "2022-11-25T08:53:03.851537Z"
    }
   },
   "outputs": [
    {
     "data": {
      "text/html": [
       "<div>\n",
       "<style scoped>\n",
       "    .dataframe tbody tr th:only-of-type {\n",
       "        vertical-align: middle;\n",
       "    }\n",
       "\n",
       "    .dataframe tbody tr th {\n",
       "        vertical-align: top;\n",
       "    }\n",
       "\n",
       "    .dataframe thead th {\n",
       "        text-align: right;\n",
       "    }\n",
       "</style>\n",
       "<table border=\"1\" class=\"dataframe\">\n",
       "  <thead>\n",
       "    <tr style=\"text-align: right;\">\n",
       "      <th></th>\n",
       "      <th>customer_unique_id</th>\n",
       "      <th>Recency</th>\n",
       "      <th>Frequency</th>\n",
       "      <th>Monetary</th>\n",
       "      <th>date</th>\n",
       "    </tr>\n",
       "  </thead>\n",
       "  <tbody>\n",
       "    <tr>\n",
       "      <th>0</th>\n",
       "      <td>af07308b275d755c9edb36a90c618231</td>\n",
       "      <td>41</td>\n",
       "      <td>1</td>\n",
       "      <td>141.46</td>\n",
       "      <td>2018-07-24 20:41:37</td>\n",
       "    </tr>\n",
       "    <tr>\n",
       "      <th>1</th>\n",
       "      <td>3a653a41f6f9fc3d2a113cf8398680e8</td>\n",
       "      <td>26</td>\n",
       "      <td>1</td>\n",
       "      <td>179.12</td>\n",
       "      <td>2018-08-08 08:38:49</td>\n",
       "    </tr>\n",
       "    <tr>\n",
       "      <th>2</th>\n",
       "      <td>7c142cf63193a1473d2e66489a9ae977</td>\n",
       "      <td>289</td>\n",
       "      <td>1</td>\n",
       "      <td>72.20</td>\n",
       "      <td>2017-11-18 19:28:06</td>\n",
       "    </tr>\n",
       "    <tr>\n",
       "      <th>3</th>\n",
       "      <td>72632f0f9dd73dfee390c9b22eb56dd6</td>\n",
       "      <td>202</td>\n",
       "      <td>1</td>\n",
       "      <td>28.62</td>\n",
       "      <td>2018-02-13 21:18:39</td>\n",
       "    </tr>\n",
       "    <tr>\n",
       "      <th>4</th>\n",
       "      <td>80bb27c7c16e8f973207a5086ab329e2</td>\n",
       "      <td>421</td>\n",
       "      <td>1</td>\n",
       "      <td>175.26</td>\n",
       "      <td>2017-07-09 21:57:05</td>\n",
       "    </tr>\n",
       "    <tr>\n",
       "      <th>...</th>\n",
       "      <td>...</td>\n",
       "      <td>...</td>\n",
       "      <td>...</td>\n",
       "      <td>...</td>\n",
       "      <td>...</td>\n",
       "    </tr>\n",
       "    <tr>\n",
       "      <th>93391</th>\n",
       "      <td>6359f309b166b0196dbf7ad2ac62bb5a</td>\n",
       "      <td>543</td>\n",
       "      <td>1</td>\n",
       "      <td>85.08</td>\n",
       "      <td>2017-03-09 09:54:05</td>\n",
       "    </tr>\n",
       "    <tr>\n",
       "      <th>93392</th>\n",
       "      <td>da62f9e57a76d978d02ab5362c509660</td>\n",
       "      <td>209</td>\n",
       "      <td>1</td>\n",
       "      <td>195.00</td>\n",
       "      <td>2018-02-06 12:58:58</td>\n",
       "    </tr>\n",
       "    <tr>\n",
       "      <th>93393</th>\n",
       "      <td>737520a9aad80b3fbbdad19b66b37b30</td>\n",
       "      <td>372</td>\n",
       "      <td>1</td>\n",
       "      <td>271.01</td>\n",
       "      <td>2017-08-27 14:46:43</td>\n",
       "    </tr>\n",
       "    <tr>\n",
       "      <th>93394</th>\n",
       "      <td>5097a5312c8b157bb7be58ae360ef43c</td>\n",
       "      <td>238</td>\n",
       "      <td>1</td>\n",
       "      <td>882.32</td>\n",
       "      <td>2018-01-08 21:28:27</td>\n",
       "    </tr>\n",
       "    <tr>\n",
       "      <th>93395</th>\n",
       "      <td>60350aa974b26ff12caad89e55993bd6</td>\n",
       "      <td>179</td>\n",
       "      <td>1</td>\n",
       "      <td>86.86</td>\n",
       "      <td>2018-03-08 20:57:30</td>\n",
       "    </tr>\n",
       "  </tbody>\n",
       "</table>\n",
       "<p>93396 rows × 5 columns</p>\n",
       "</div>"
      ],
      "text/plain": [
       "                     customer_unique_id  Recency  Frequency  Monetary  \\\n",
       "0      af07308b275d755c9edb36a90c618231       41          1    141.46   \n",
       "1      3a653a41f6f9fc3d2a113cf8398680e8       26          1    179.12   \n",
       "2      7c142cf63193a1473d2e66489a9ae977      289          1     72.20   \n",
       "3      72632f0f9dd73dfee390c9b22eb56dd6      202          1     28.62   \n",
       "4      80bb27c7c16e8f973207a5086ab329e2      421          1    175.26   \n",
       "...                                 ...      ...        ...       ...   \n",
       "93391  6359f309b166b0196dbf7ad2ac62bb5a      543          1     85.08   \n",
       "93392  da62f9e57a76d978d02ab5362c509660      209          1    195.00   \n",
       "93393  737520a9aad80b3fbbdad19b66b37b30      372          1    271.01   \n",
       "93394  5097a5312c8b157bb7be58ae360ef43c      238          1    882.32   \n",
       "93395  60350aa974b26ff12caad89e55993bd6      179          1     86.86   \n",
       "\n",
       "                     date  \n",
       "0     2018-07-24 20:41:37  \n",
       "1     2018-08-08 08:38:49  \n",
       "2     2017-11-18 19:28:06  \n",
       "3     2018-02-13 21:18:39  \n",
       "4     2017-07-09 21:57:05  \n",
       "...                   ...  \n",
       "93391 2017-03-09 09:54:05  \n",
       "93392 2018-02-06 12:58:58  \n",
       "93393 2017-08-27 14:46:43  \n",
       "93394 2018-01-08 21:28:27  \n",
       "93395 2018-03-08 20:57:30  \n",
       "\n",
       "[93396 rows x 5 columns]"
      ]
     },
     "execution_count": 18,
     "metadata": {},
     "output_type": "execute_result"
    }
   ],
   "source": [
    "df_rfm"
   ]
  },
  {
   "cell_type": "code",
   "execution_count": 19,
   "id": "931c1737",
   "metadata": {
    "ExecuteTime": {
     "end_time": "2022-11-25T08:53:05.399397Z",
     "start_time": "2022-11-25T08:53:05.376737Z"
    }
   },
   "outputs": [],
   "source": [
    "df_rfm_log = df_rfm.copy()\n",
    "for c in df_rfm.columns[2:4]:\n",
    "    df_rfm_log[c] = np.log10(df_rfm_log[c])"
   ]
  },
  {
   "cell_type": "code",
   "execution_count": 20,
   "id": "9394a23f",
   "metadata": {
    "ExecuteTime": {
     "end_time": "2022-11-25T08:53:06.604150Z",
     "start_time": "2022-11-25T08:53:06.574680Z"
    }
   },
   "outputs": [
    {
     "data": {
      "text/html": [
       "<div>\n",
       "<style scoped>\n",
       "    .dataframe tbody tr th:only-of-type {\n",
       "        vertical-align: middle;\n",
       "    }\n",
       "\n",
       "    .dataframe tbody tr th {\n",
       "        vertical-align: top;\n",
       "    }\n",
       "\n",
       "    .dataframe thead th {\n",
       "        text-align: right;\n",
       "    }\n",
       "</style>\n",
       "<table border=\"1\" class=\"dataframe\">\n",
       "  <thead>\n",
       "    <tr style=\"text-align: right;\">\n",
       "      <th></th>\n",
       "      <th>customer_unique_id</th>\n",
       "      <th>Recency</th>\n",
       "      <th>Frequency</th>\n",
       "      <th>Monetary</th>\n",
       "      <th>date</th>\n",
       "    </tr>\n",
       "  </thead>\n",
       "  <tbody>\n",
       "    <tr>\n",
       "      <th>0</th>\n",
       "      <td>af07308b275d755c9edb36a90c618231</td>\n",
       "      <td>41</td>\n",
       "      <td>0.0</td>\n",
       "      <td>2.150634</td>\n",
       "      <td>2018-07-24 20:41:37</td>\n",
       "    </tr>\n",
       "    <tr>\n",
       "      <th>1</th>\n",
       "      <td>3a653a41f6f9fc3d2a113cf8398680e8</td>\n",
       "      <td>26</td>\n",
       "      <td>0.0</td>\n",
       "      <td>2.253144</td>\n",
       "      <td>2018-08-08 08:38:49</td>\n",
       "    </tr>\n",
       "    <tr>\n",
       "      <th>2</th>\n",
       "      <td>7c142cf63193a1473d2e66489a9ae977</td>\n",
       "      <td>289</td>\n",
       "      <td>0.0</td>\n",
       "      <td>1.858537</td>\n",
       "      <td>2017-11-18 19:28:06</td>\n",
       "    </tr>\n",
       "    <tr>\n",
       "      <th>3</th>\n",
       "      <td>72632f0f9dd73dfee390c9b22eb56dd6</td>\n",
       "      <td>202</td>\n",
       "      <td>0.0</td>\n",
       "      <td>1.456670</td>\n",
       "      <td>2018-02-13 21:18:39</td>\n",
       "    </tr>\n",
       "    <tr>\n",
       "      <th>4</th>\n",
       "      <td>80bb27c7c16e8f973207a5086ab329e2</td>\n",
       "      <td>421</td>\n",
       "      <td>0.0</td>\n",
       "      <td>2.243683</td>\n",
       "      <td>2017-07-09 21:57:05</td>\n",
       "    </tr>\n",
       "    <tr>\n",
       "      <th>...</th>\n",
       "      <td>...</td>\n",
       "      <td>...</td>\n",
       "      <td>...</td>\n",
       "      <td>...</td>\n",
       "      <td>...</td>\n",
       "    </tr>\n",
       "    <tr>\n",
       "      <th>93391</th>\n",
       "      <td>6359f309b166b0196dbf7ad2ac62bb5a</td>\n",
       "      <td>543</td>\n",
       "      <td>0.0</td>\n",
       "      <td>1.929827</td>\n",
       "      <td>2017-03-09 09:54:05</td>\n",
       "    </tr>\n",
       "    <tr>\n",
       "      <th>93392</th>\n",
       "      <td>da62f9e57a76d978d02ab5362c509660</td>\n",
       "      <td>209</td>\n",
       "      <td>0.0</td>\n",
       "      <td>2.290035</td>\n",
       "      <td>2018-02-06 12:58:58</td>\n",
       "    </tr>\n",
       "    <tr>\n",
       "      <th>93393</th>\n",
       "      <td>737520a9aad80b3fbbdad19b66b37b30</td>\n",
       "      <td>372</td>\n",
       "      <td>0.0</td>\n",
       "      <td>2.432985</td>\n",
       "      <td>2017-08-27 14:46:43</td>\n",
       "    </tr>\n",
       "    <tr>\n",
       "      <th>93394</th>\n",
       "      <td>5097a5312c8b157bb7be58ae360ef43c</td>\n",
       "      <td>238</td>\n",
       "      <td>0.0</td>\n",
       "      <td>2.945626</td>\n",
       "      <td>2018-01-08 21:28:27</td>\n",
       "    </tr>\n",
       "    <tr>\n",
       "      <th>93395</th>\n",
       "      <td>60350aa974b26ff12caad89e55993bd6</td>\n",
       "      <td>179</td>\n",
       "      <td>0.0</td>\n",
       "      <td>1.938820</td>\n",
       "      <td>2018-03-08 20:57:30</td>\n",
       "    </tr>\n",
       "  </tbody>\n",
       "</table>\n",
       "<p>93396 rows × 5 columns</p>\n",
       "</div>"
      ],
      "text/plain": [
       "                     customer_unique_id  Recency  Frequency  Monetary  \\\n",
       "0      af07308b275d755c9edb36a90c618231       41        0.0  2.150634   \n",
       "1      3a653a41f6f9fc3d2a113cf8398680e8       26        0.0  2.253144   \n",
       "2      7c142cf63193a1473d2e66489a9ae977      289        0.0  1.858537   \n",
       "3      72632f0f9dd73dfee390c9b22eb56dd6      202        0.0  1.456670   \n",
       "4      80bb27c7c16e8f973207a5086ab329e2      421        0.0  2.243683   \n",
       "...                                 ...      ...        ...       ...   \n",
       "93391  6359f309b166b0196dbf7ad2ac62bb5a      543        0.0  1.929827   \n",
       "93392  da62f9e57a76d978d02ab5362c509660      209        0.0  2.290035   \n",
       "93393  737520a9aad80b3fbbdad19b66b37b30      372        0.0  2.432985   \n",
       "93394  5097a5312c8b157bb7be58ae360ef43c      238        0.0  2.945626   \n",
       "93395  60350aa974b26ff12caad89e55993bd6      179        0.0  1.938820   \n",
       "\n",
       "                     date  \n",
       "0     2018-07-24 20:41:37  \n",
       "1     2018-08-08 08:38:49  \n",
       "2     2017-11-18 19:28:06  \n",
       "3     2018-02-13 21:18:39  \n",
       "4     2017-07-09 21:57:05  \n",
       "...                   ...  \n",
       "93391 2017-03-09 09:54:05  \n",
       "93392 2018-02-06 12:58:58  \n",
       "93393 2017-08-27 14:46:43  \n",
       "93394 2018-01-08 21:28:27  \n",
       "93395 2018-03-08 20:57:30  \n",
       "\n",
       "[93396 rows x 5 columns]"
      ]
     },
     "execution_count": 20,
     "metadata": {},
     "output_type": "execute_result"
    }
   ],
   "source": [
    "df_rfm_log"
   ]
  },
  {
   "cell_type": "code",
   "execution_count": 21,
   "id": "a30569d8",
   "metadata": {
    "ExecuteTime": {
     "end_time": "2022-11-25T08:53:07.149563Z",
     "start_time": "2022-11-25T08:53:07.140865Z"
    }
   },
   "outputs": [],
   "source": [
    "def split_by_date(df, date):\n",
    "    filter1 = df['date'] < date\n",
    "    new_df = df.where(filter1)\n",
    "    new_df = new_df.dropna()\n",
    "    return new_df"
   ]
  },
  {
   "cell_type": "code",
   "execution_count": 24,
   "id": "a0b6b83e",
   "metadata": {
    "ExecuteTime": {
     "end_time": "2022-11-25T08:55:12.352169Z",
     "start_time": "2022-11-25T08:55:12.332362Z"
    }
   },
   "outputs": [],
   "source": [
    "def stability(data, start_date, period_in_days):\n",
    "    ari_score = []\n",
    "    ari_bef = []\n",
    "    M0 = split_by_date(data, start_date)\n",
    "    scaler_init = StandardScaler()\n",
    "    scaler = StandardScaler()\n",
    "    scaler_init.fit(M0.drop([\"customer_unique_id\",\n",
    "                            'date'],\n",
    "                            axis=1))\n",
    "    scaled_data_M0 = scaler_init.transform(M0.drop([\"customer_unique_id\",\n",
    "                                                   'date'],\n",
    "                                                   axis=1))\n",
    "    Table_scaled_M0 = pd.DataFrame(\n",
    "        scaled_data_M0, columns=df_rfm_log.columns[2:5])\n",
    "    kmeans_init = KMeans(n_clusters=4)\n",
    "    kmeans_init.fit(Table_scaled_M0)\n",
    "    start = datetime.datetime.strptime(start_date, '%Y-%m-%d %H:%M:%S')\n",
    "    print(start)\n",
    "    next_period = start + datetime.timedelta(days=period_in_days)\n",
    "    print(next_period)\n",
    "    while next_period < max(data['date']):\n",
    "        Mx = split_by_date(data, next_period)\n",
    "        scaled_data_Mx_init = scaler_init.transform(Mx.drop(\n",
    "            [\"customer_unique_id\",\n",
    "             'date'],\n",
    "            axis=1))\n",
    "        scaled_data_Mx = scaler.fit_transform(Mx.drop([\"customer_unique_id\",\n",
    "                                                       'date'],\n",
    "                                                      axis=1))\n",
    "        Table_scaled_Mx_init = pd.DataFrame(\n",
    "            scaled_data_Mx_init, columns=df_rfm_log.columns[2:5])\n",
    "        Table_scaled_Mx = pd.DataFrame(\n",
    "            scaled_data_Mx, columns=df_rfm_log.columns[2:5])\n",
    "        kmeans = KMeans(n_clusters=4)\n",
    "        init_lab = kmeans_init.predict(Table_scaled_Mx_init)\n",
    "        #lab_0 = kmeans.predict(Table_scaled_Mx)\n",
    "        lab = kmeans.fit_predict(Table_scaled_Mx)\n",
    "        ari_p = adjusted_rand_score(init_lab, lab)\n",
    "        #ari_b = adjusted_rand_score(lab, lab_0)\n",
    "        ari_score.append([next_period, ari_p])\n",
    "        #ari_bef.append([next_period,ari_b])\n",
    "        next_period = next_period + datetime.timedelta(days=period_in_days)\n",
    "        print(next_period)\n",
    "    return ari_score"
   ]
  },
  {
   "cell_type": "code",
   "execution_count": 25,
   "id": "af83b91f",
   "metadata": {
    "ExecuteTime": {
     "end_time": "2022-11-25T08:56:11.428715Z",
     "start_time": "2022-11-25T08:56:02.356049Z"
    }
   },
   "outputs": [
    {
     "name": "stdout",
     "output_type": "stream",
     "text": [
      "2018-01-01 00:00:00\n",
      "2018-01-16 00:00:00\n",
      "2018-01-31 00:00:00\n",
      "2018-02-15 00:00:00\n",
      "2018-03-02 00:00:00\n",
      "2018-03-17 00:00:00\n",
      "2018-04-01 00:00:00\n",
      "2018-04-16 00:00:00\n",
      "2018-05-01 00:00:00\n",
      "2018-05-16 00:00:00\n",
      "2018-05-31 00:00:00\n",
      "2018-06-15 00:00:00\n",
      "2018-06-30 00:00:00\n",
      "2018-07-15 00:00:00\n",
      "2018-07-30 00:00:00\n",
      "2018-08-14 00:00:00\n",
      "2018-08-29 00:00:00\n",
      "2018-09-13 00:00:00\n",
      "2018-09-28 00:00:00\n",
      "2018-10-13 00:00:00\n"
     ]
    }
   ],
   "source": [
    "ari_score = stability(df_rfm_log, '2018-01-01 00:00:00', 15)"
   ]
  },
  {
   "cell_type": "code",
   "execution_count": 26,
   "id": "bdc00802",
   "metadata": {},
   "outputs": [
    {
     "name": "stdout",
     "output_type": "stream",
     "text": [
      "2018-05-01 00:00:00\n",
      "2018-05-16 00:00:00\n",
      "2018-05-31 00:00:00\n",
      "2018-06-15 00:00:00\n",
      "2018-06-30 00:00:00\n",
      "2018-07-15 00:00:00\n",
      "2018-07-30 00:00:00\n",
      "2018-08-14 00:00:00\n",
      "2018-08-29 00:00:00\n",
      "2018-09-13 00:00:00\n",
      "2018-09-28 00:00:00\n",
      "2018-10-13 00:00:00\n"
     ]
    }
   ],
   "source": [
    "ari_score = stability(df_rfm_log, '2018-05-01 00:00:00', 15)"
   ]
  },
  {
   "cell_type": "code",
   "execution_count": 27,
   "id": "6a77ce5c",
   "metadata": {
    "ExecuteTime": {
     "end_time": "2022-11-25T08:56:13.105318Z",
     "start_time": "2022-11-25T08:56:13.095715Z"
    }
   },
   "outputs": [
    {
     "data": {
      "text/plain": [
       "[[datetime.datetime(2018, 5, 16, 0, 0), 0.9171596843977528],\n",
       " [datetime.datetime(2018, 5, 31, 0, 0), 0.8979782050237647],\n",
       " [datetime.datetime(2018, 6, 15, 0, 0), 0.8561567824790354],\n",
       " [datetime.datetime(2018, 6, 30, 0, 0), 0.8438460118264726],\n",
       " [datetime.datetime(2018, 7, 15, 0, 0), 0.7912263812843203],\n",
       " [datetime.datetime(2018, 7, 30, 0, 0), 0.7829676367981232],\n",
       " [datetime.datetime(2018, 8, 14, 0, 0), 0.7144960036758653],\n",
       " [datetime.datetime(2018, 8, 29, 0, 0), 0.6860323229620094],\n",
       " [datetime.datetime(2018, 9, 13, 0, 0), 0.6868993706365791],\n",
       " [datetime.datetime(2018, 9, 28, 0, 0), 0.6921610199653715]]"
      ]
     },
     "execution_count": 27,
     "metadata": {},
     "output_type": "execute_result"
    }
   ],
   "source": [
    "ari_score"
   ]
  },
  {
   "cell_type": "markdown",
   "id": "c3be73bc",
   "metadata": {},
   "source": [
    "Maintenant, on va tester le score ARI entre un k-means train sur le dataset de base ou avec celui auquelle on a rajouter chaque mois.\n"
   ]
  },
  {
   "cell_type": "markdown",
   "id": "4a2cb749",
   "metadata": {},
   "source": [
    "## <a name='C3'> Stabilité temporelle de la segmentation<a/>"
   ]
  },
  {
   "cell_type": "code",
   "execution_count": 28,
   "id": "220342b6",
   "metadata": {
    "ExecuteTime": {
     "end_time": "2022-11-25T08:56:15.509331Z",
     "start_time": "2022-11-25T08:56:15.281024Z"
    }
   },
   "outputs": [
    {
     "data": {
      "image/png": "[encoded data removed]",
      "text/plain": [
       "<Figure size 1200x800 with 1 Axes>"
      ]
     },
     "metadata": {},
     "output_type": "display_data"
    }
   ],
   "source": [
    "ari_score = pd.DataFrame(ari_score, columns=[\"periode\", \"ARI\"])\n",
    "\n",
    "# plot ARI Score\n",
    "fig = plt.figure(figsize=(12, 8))\n",
    "sns.lineplot(data=ari_score, x=\"periode\", y=\"ARI\")\n",
    "plt.xlabel(\"Période (15 jours)\")\n",
    "plt.ylabel(\"Score ARI\")\n",
    "plt.title(\"Stabilité temporelle de la segmentation par K-Means\",\n",
    "          fontsize=18,\n",
    "          color=\"b\")\n",
    "plt.show()"
   ]
  },
  {
   "cell_type": "code",
   "execution_count": null,
   "id": "abb009b6",
   "metadata": {},
   "outputs": [],
   "source": []
  },
  {
   "cell_type": "code",
   "execution_count": null,
   "id": "dbf07eca",
   "metadata": {},
   "outputs": [],
   "source": []
  }
 ],
 "metadata": {
  "hide_input": false,
  "kernelspec": {
   "display_name": "Python 3 (ipykernel)",
   "language": "python",
   "name": "python3"
  },
  "language_info": {
   "codemirror_mode": {
    "name": "ipython",
    "version": 3
   },
   "file_extension": ".py",
   "mimetype": "text/x-python",
   "name": "python",
   "nbconvert_exporter": "python",
   "pygments_lexer": "ipython3",
   "version": "3.9.13"
  },
  "latex_envs": {
   "LaTeX_envs_menu_present": true,
   "autoclose": false,
   "autocomplete": true,
   "bibliofile": "biblio.bib",
   "cite_by": "apalike",
   "current_citInitial": 1,
   "eqLabelWithNumbers": true,
   "eqNumInitial": 1,
   "hotkeys": {
    "equation": "Ctrl-E",
    "itemize": "Ctrl-I"
   },
   "labels_anchors": false,
   "latex_user_defs": false,
   "report_style_numbering": false,
   "user_envs_cfg": false
  },
  "nbTranslate": {
   "displayLangs": [
    "*"
   ],
   "hotkey": "alt-t",
   "langInMainMenu": true,
   "sourceLang": "en",
   "targetLang": "fr",
   "useGoogleTranslate": true
  },
  "varInspector": {
   "cols": {
    "lenName": 16,
    "lenType": 16,
    "lenVar": 40
   },
   "kernels_config": {
    "python": {
     "delete_cmd_postfix": "",
     "delete_cmd_prefix": "del ",
     "library": "var_list.py",
     "varRefreshCmd": "print(var_dic_list())"
    },
    "r": {
     "delete_cmd_postfix": ") ",
     "delete_cmd_prefix": "rm(",
     "library": "var_list.r",
     "varRefreshCmd": "cat(var_dic_list()) "
    }
   },
   "types_to_exclude": [
    "module",
    "function",
    "builtin_function_or_method",
    "instance",
    "_Feature"
   ],
   "window_display": false
  }
 },
 "nbformat": 4,
 "nbformat_minor": 5
}
